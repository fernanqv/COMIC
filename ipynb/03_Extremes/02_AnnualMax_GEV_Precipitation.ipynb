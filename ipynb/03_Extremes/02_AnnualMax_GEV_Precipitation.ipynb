{
 "cells": [
  {
   "cell_type": "markdown",
   "metadata": {},
   "source": [
    "# Annual Maxima - Generalized Extreme Values distribution\n",
    "Precipitation database"
   ]
  },
  {
   "cell_type": "markdown",
   "metadata": {},
   "source": [
    "* [1. Input Precipitation](#1)\n",
    "\t* [1.1. Load Dataset](#11)  \n",
    "\t* [1.2. Data Visualization: Time Series](#12)     \n",
    "\t* [1.3. Data Visualization: Histograms](#13)     \n",
    "    \n",
    "* [2. Annual Maxima Extremes](#2)\n",
    "\t* [2.1. Calculate Annual Maxima](#21)\n",
    "    * [2.2. Data visualization - Daily and Annual precipitation](#22)\n",
    "\t* [2.3. Fit Annual Maxima to Generalized Extreme Value](#23)\n",
    "    * [2.4. Simulate GEV parameters](#24)\n",
    "    * [2.5. Uncertainty of shape parameter](#25)\n",
    "    \n",
    "* [3. Simulate Precipitation](#3)\n",
    "\t* [3.1. Use simulated GEVs to generate Precipitation Annual Maxima](#31)\n",
    "\t* [3.2. Plot Return Period](#32)\n",
    "    \n",
    "<hr size=\"5\"/>"
   ]
  },
  {
   "cell_type": "code",
   "execution_count": null,
   "metadata": {},
   "outputs": [],
   "source": [
    "import os\n",
    "import os.path as op\n",
    "\n",
    "import numpy as np\n",
    "from numpy.random import multivariate_normal\n",
    "import pandas as pd\n",
    "from scipy.stats import  gumbel_l, genextreme\n",
    "\n",
    "# plotly\n",
    "import plotly.express as px\n",
    "import plotly.graph_objects as go\n",
    "from plotly.subplots import make_subplots\n",
    "import plotly.figure_factory as ff\n"
   ]
  },
  {
   "cell_type": "markdown",
   "metadata": {},
   "source": [
    "## 1. Input Precipitation <a class=\"anchor\" id=\"1\"></a>"
   ]
  },
  {
   "cell_type": "markdown",
   "metadata": {},
   "source": [
    "### 1.1. Load Dataset <a class=\"anchor\" id=\"11\"></a>"
   ]
  },
  {
   "cell_type": "code",
   "execution_count": null,
   "metadata": {},
   "outputs": [],
   "source": [
    "# path\n",
    "p_db = op.join(os.getcwd(),'..','..','data','Precipitation_Cantabria')\n",
    "\n",
    "# read database precipitation (xls file)\n",
    "p_dat = op.join(p_db, '1083e_R.xls')\n",
    "\n",
    "data = pd.read_excel(\n",
    "    p_dat,\n",
    "    header = None, \n",
    "    names = ['Precipitation']\n",
    ")\n",
    "\n",
    "# set dataframe time index\n",
    "data.index =  np.arange('1970-10-01', '2003-10-01', dtype='datetime64[D]')\n",
    "data.index.name = 'time'\n"
   ]
  },
  {
   "cell_type": "markdown",
   "metadata": {},
   "source": [
    "### 1.2. Data Visualization: Time Series <a class=\"anchor\" id=\"12\"></a>"
   ]
  },
  {
   "cell_type": "code",
   "execution_count": null,
   "metadata": {},
   "outputs": [],
   "source": [
    "px.line(data)"
   ]
  },
  {
   "cell_type": "markdown",
   "metadata": {},
   "source": [
    "### 1.3. Data Visualization - Histograms <a class=\"anchor\" id=\"13\"></a>"
   ]
  },
  {
   "cell_type": "code",
   "execution_count": null,
   "metadata": {},
   "outputs": [],
   "source": [
    "fig = make_subplots(\n",
    "    rows=1, cols=2,\n",
    "    subplot_titles=['Count', 'Probability Density'],\n",
    ")\n",
    "fig.append_trace(\n",
    "    go.Histogram(x = data['Precipitation'], nbinsx = 30), \n",
    "    1, 1,\n",
    ")\n",
    "fig.append_trace( \n",
    "    go.Histogram(x = data['Precipitation'], nbinsx = 30, histnorm='probability density'), \n",
    "    1, 2\n",
    ")\n",
    "fig.update_layout(showlegend=False)\n",
    "fig.show()\n"
   ]
  },
  {
   "cell_type": "markdown",
   "metadata": {},
   "source": [
    "## 2. Annual Maxima Extremes <a class=\"anchor\" id=\"2\"></a>"
   ]
  },
  {
   "cell_type": "markdown",
   "metadata": {},
   "source": [
    "### 2.1. Calculate Annual Maxima <a class=\"anchor\" id=\"21\"></a>"
   ]
  },
  {
   "cell_type": "code",
   "execution_count": null,
   "metadata": {},
   "outputs": [],
   "source": [
    "# set dataset hydrologic year (10-01)\n",
    "data_month = pd.DatetimeIndex(data.index).month\n",
    "data_day = pd.DatetimeIndex(data.index).day\n",
    "\n",
    "# generate hydrologic year indexes\n",
    "split = np.where((data_month==10) & (data_day==1))[0]\n",
    "yh = np.zeros(len(data))\n",
    "for c, v in enumerate(split[:-1]):\n",
    "    yh[split[c]:split[c+1]] = 1970 + c\n",
    "yh[split[-1]:] = 1970 + len(split)-1\n",
    "\n",
    "data.index.hydro = yh\n"
   ]
  },
  {
   "cell_type": "code",
   "execution_count": null,
   "metadata": {},
   "outputs": [],
   "source": [
    "# Calculate Annual Maxima with pandas groupby and agg functions\n",
    "amax = data.groupby(by=[data.index.hydro]).agg(\n",
    "    Fmax = ('Precipitation', lambda data: data.idxmax()),\n",
    "    Pmax = ('Precipitation', lambda data: data.max())\n",
    ")\n",
    "\n",
    "# Plot Precipitation Annual Maxima time series\n",
    "fig = go.Figure()\n",
    "fig.add_trace(\n",
    "    go.Scatter(\n",
    "        x = data.index, y = data['Precipitation'],\n",
    "        mode ='lines', name = 'Historic',\n",
    "    )\n",
    ")\n",
    "fig.add_trace(\n",
    "    go.Scatter(\n",
    "        x = amax['Fmax'], y = amax['Pmax'],\n",
    "        mode ='markers', name = 'Annual Maxima',\n",
    "    )\n",
    ")\n",
    "fig.update_layout(    \n",
    "    xaxis_title = \"time\",\n",
    "    yaxis_title = \"Precipitation (mm/d)\",\n",
    "    yaxis=dict(rangemode='nonnegative')\n",
    ")\n",
    "fig.show()\n"
   ]
  },
  {
   "cell_type": "markdown",
   "metadata": {},
   "source": [
    "### 2.2. Data visualization - Daily and Annual precipitation <a class=\"anchor\" id=\"22\"></a>"
   ]
  },
  {
   "cell_type": "code",
   "execution_count": null,
   "metadata": {},
   "outputs": [],
   "source": [
    "# annual maxima series \n",
    "var_max = amax['Pmax'].values[:] \n",
    "\n",
    "fig = go.Figure()\n",
    "fig.add_trace( \n",
    "    go.Histogram(x = data['Precipitation'], nbinsx = 100, histnorm='probability density', name='Daily')\n",
    ")\n",
    "fig.add_trace(\n",
    "    go.Histogram(x=var_max, nbinsx = 30, histnorm='probability density', name='Annual')\n",
    ")\n",
    "\n",
    "fig.update_layout(    \n",
    "    xaxis_title = \"x\",\n",
    "    yaxis_title = \"P(x)\",\n",
    "    title = 'Probability Density Functions',\n",
    "    showlegend=True, \n",
    "    barmode='overlay'\n",
    ")\n",
    "fig.show()"
   ]
  },
  {
   "cell_type": "markdown",
   "metadata": {},
   "source": [
    "### 2.3. Fit Annual Maxima to Generalized Extreme Value <a class=\"anchor\" id=\"23\"></a>"
   ]
  },
  {
   "cell_type": "code",
   "execution_count": null,
   "metadata": {},
   "outputs": [],
   "source": [
    "# fit data to GEV\n",
    "shape, loc, scale = genextreme.fit(var_max)\n",
    "print(shape, loc, scale)\n",
    "\n",
    "# negative loglikelihood\n",
    "nLogL = genextreme.nnlf((shape, loc, scale), var_max)\n",
    "\n",
    "# GEV parameters\n",
    "theta = (shape, loc, scale)\n",
    "\n",
    "# freeze GEV with parameters, get GEV PDF\n",
    "rv = genextreme(shape, loc, scale)  \n",
    "x = np.linspace(rv.ppf(0.001), rv.ppf(0.999), 1000)\n",
    "y = rv.pdf(x)\n"
   ]
  },
  {
   "cell_type": "code",
   "execution_count": null,
   "metadata": {},
   "outputs": [],
   "source": [
    "# Plot GEV PDF vs data probability density histogram\n",
    "\n",
    "fig = go.Figure()\n",
    "fig.add_trace(go.Scatter(x=x, y=y, mode='lines', name='PDF', marker_color='black'))\n",
    "fig.add_trace(go.Histogram(x=var_max, nbinsx = 30, histnorm='probability density', name='Historical'))\n",
    "\n",
    "fig.update_layout(    \n",
    "    xaxis_title = \"x\",\n",
    "    yaxis_title = \"P(x)\",\n",
    "    title = 'GEV Probability Density Function',\n",
    "    yaxis=dict(rangemode='nonnegative')\n",
    ")\n",
    "fig.show()\n"
   ]
  },
  {
   "cell_type": "code",
   "execution_count": null,
   "metadata": {},
   "outputs": [],
   "source": [
    "# simulate some values for this GEV\n",
    "size_sim = 1000\n",
    "var_sim = genextreme.rvs(shape, loc, scale, size=size_sim)\n",
    "\n",
    "# Plot GEV pdf vs simulated data\n",
    "fig = go.Figure()\n",
    "fig.add_trace(go.Scatter(x=x, y=y, mode='lines', name='PDF', marker_color='black'))\n",
    "fig.add_trace(go.Histogram(x=var_sim, nbinsx = 100, histnorm='probability density', name='Simulation'))\n",
    "\n",
    "fig.update_layout(    \n",
    "    xaxis_title = \"x\",\n",
    "    yaxis_title = \"P(x)\",\n",
    "    title = 'GEV Probability Density Function',\n",
    "    yaxis=dict(rangemode='nonnegative')\n",
    ")\n",
    "fig.show()\n"
   ]
  },
  {
   "cell_type": "markdown",
   "metadata": {},
   "source": [
    "### 2.4. Simulate GEV parameters <a class=\"anchor\" id=\"24\"></a>"
   ]
  },
  {
   "cell_type": "code",
   "execution_count": null,
   "metadata": {},
   "outputs": [],
   "source": [
    "def ACOV(f, theta, x):\n",
    "    '''\n",
    "    Returns asyntotyc variance matrix using Fisher Information matrix inverse\n",
    "    Generalized functions, parameters and data.\n",
    "\n",
    "    f      - function to evaluate: GEV, GUMBELL, ...\n",
    "    theta  - function parameters: for GEV (shape, location, scale)\n",
    "    x      - data used for function evaluation\n",
    "\n",
    "    Second derivative evaluation - variance and covariance\n",
    "    dxx = (f(x+dt_x) - 2f(x) + f(x-dt_x)) / (dt_x**2)\n",
    "    dxy = (f(x,y) - f(x-dt_x,y) - f(x,y-dt_y) + f(x-dt_x, u-dt_y)) / (dt_x*dt_y)\n",
    "    '''\n",
    "\n",
    "    # parameters differential\n",
    "    pm = 0.00001\n",
    "    params = np.asarray(theta)\n",
    "    dt_p = pm * params\n",
    "\n",
    "    # Fisher information matrix holder \n",
    "    ss = len(params)\n",
    "    FI = np.ones((ss,ss)) * np.nan\n",
    "\n",
    "    if np.isinf(f(theta, x)):\n",
    "        print ('ACOV error: nLogL = Inf. {0}'.format(theta))\n",
    "        return np.ones((ss,ss))*0.0001\n",
    "\n",
    "    # variance and covariance\n",
    "    for i in range(ss):\n",
    "\n",
    "        # diferential parameter FI evaluation\n",
    "        p1 = np.asarray(theta); p1[i] = p1[i] + dt_p[i]\n",
    "        p2 = np.asarray(theta); p2[i] = p2[i] - dt_p[i]\n",
    "\n",
    "        # variance\n",
    "        FI[i,i] = (f(tuple(p1), x) - 2*f(theta,x) + f(tuple(p2), x))/(dt_p[i]**2)\n",
    "\n",
    "        for j in range(i+1,ss):\n",
    "\n",
    "            # diferential parameter FI evaluation\n",
    "            p1 = np.asarray(theta); p1[i] = p1[i] - dt_p[i]\n",
    "            p2 = np.asarray(theta); p2[j] = p2[j] - dt_p[j]\n",
    "            p3 = np.asarray(theta); p3[i] = p3[i] - dt_p[i]; p3[j] = p3[j] - dt_p[j]\n",
    "\n",
    "            # covariance\n",
    "            cov = (f(theta,x) - f(tuple(p1),x) - f(tuple(p2),x) + f(tuple(p3),x)) \\\n",
    "                    / (dt_p[i]*dt_p[j])\n",
    "            FI[i,j] = cov\n",
    "            FI[j,i] = cov\n",
    "\n",
    "    # asynptotic variance covariance matrix\n",
    "    acov = np.linalg.inv(FI)\n",
    "\n",
    "    return acov\n"
   ]
  },
  {
   "cell_type": "code",
   "execution_count": null,
   "metadata": {},
   "outputs": [],
   "source": [
    "# number of GEV simulations\n",
    "n_sims = 1000\n",
    "\n",
    "# GEV Loglikelihood function covariance\n",
    "acov = ACOV(genextreme.nnlf, theta, var_max)\n",
    "\n",
    "# GEV params used for multivar. normal random generation\n",
    "theta_gen = np.array(theta)\n",
    "theta_sim = multivariate_normal(theta_gen, acov, n_sims)\n"
   ]
  },
  {
   "cell_type": "code",
   "execution_count": null,
   "metadata": {},
   "outputs": [],
   "source": [
    "df_theta = pd.DataFrame({\n",
    "    'shape':list(theta_sim[:,0]) + [theta[0]],\n",
    "    'loc':list(theta_sim[:,1]) + [theta[1]],\n",
    "    'scale':list(theta_sim[:,2]) + [theta[2]],\n",
    "    'gen': list(np.tile('sim', len(theta_sim[:,0]))) + ['gen'],\n",
    "    'color':list(np.zeros(len(theta_sim[:,0]))) + [1],\n",
    "    'alpha':list(np.ones(len(theta_sim[:,0]))*0.7) + [1],\n",
    "})\n",
    "\n",
    "# plot 3D simulated GEV distribution\n",
    "fig = px.scatter_3d(df_theta, x='shape', y='loc', z='scale',\n",
    "              color='gen', opacity=0.7)\n",
    "fig.update_layout(   \n",
    "    width=1000,\n",
    "    height=600,\n",
    "    title = 'Simulated GEV parameters',\n",
    ")\n",
    "fig.update_traces(marker=dict(size=4))\n",
    "fig.show()"
   ]
  },
  {
   "cell_type": "code",
   "execution_count": null,
   "metadata": {},
   "outputs": [],
   "source": [
    "from scipy import stats\n"
   ]
  },
  {
   "cell_type": "code",
   "execution_count": null,
   "metadata": {},
   "outputs": [],
   "source": [
    "kde = stats.gaussian_kde(theta_sim.T)\n",
    "density = kde(theta_sim.T)\n"
   ]
  },
  {
   "cell_type": "code",
   "execution_count": null,
   "metadata": {},
   "outputs": [],
   "source": [
    "# plot 2D simulated GEV distribution\n",
    "fig = go.Figure(\n",
    "    data = go.Splom(\n",
    "        dimensions=[\n",
    "            dict(label = 'Shape', values = df_theta['shape']),\n",
    "            dict(label = 'Location', values = df_theta['loc']),\n",
    "            dict(label = 'Scale', values = df_theta['scale']),\n",
    "\n",
    "        ],\n",
    "        marker = dict(\n",
    "                color = df_theta['color'],\n",
    "                colorscale=['#636EFA', '#ff7f0e'],\n",
    "                opacity=df_theta['alpha']),\n",
    "        diagonal_visible = False,\n",
    "        showupperhalf = False,\n",
    "    )\n",
    ")\n",
    "fig.update_layout(\n",
    "    title='Simulated GEV Parameters',\n",
    "    width=700,\n",
    "    height=700,\n",
    ")\n",
    "fig.show()\n"
   ]
  },
  {
   "cell_type": "code",
   "execution_count": null,
   "metadata": {},
   "outputs": [],
   "source": [
    "# scatter-plot matrix\n",
    "fig = ff.create_scatterplotmatrix(\n",
    "    df_theta[['shape', 'loc', 'scale', 'color']], \n",
    "    index='color',\n",
    "    diag='histogram',\n",
    "    colormap='Blues', \n",
    "    colormap_type='seq',\n",
    "    height=800, width=800\n",
    ")\n",
    "\n",
    "fig.update_traces(marker_showscale=False)\n",
    "fig.show()"
   ]
  },
  {
   "cell_type": "markdown",
   "metadata": {},
   "source": [
    "### 2.5. Uncertainty of shape parameter <a class=\"anchor\" id=\"25\"></a>"
   ]
  },
  {
   "cell_type": "code",
   "execution_count": null,
   "metadata": {},
   "outputs": [],
   "source": [
    "theta_gen"
   ]
  },
  {
   "cell_type": "code",
   "execution_count": null,
   "metadata": {},
   "outputs": [],
   "source": [
    "# Monte Carlo\n",
    "[np.percentile(theta_sim[:,0], 2.5), np.percentile(theta_sim[:,0], 97.5)]"
   ]
  },
  {
   "cell_type": "code",
   "execution_count": null,
   "metadata": {},
   "outputs": [],
   "source": [
    "# analytically\n",
    "[theta[0] - 1.96 * np.sqrt(acov[0,0]), theta[0] + 1.96 * np.sqrt(acov[0,0])]"
   ]
  },
  {
   "cell_type": "markdown",
   "metadata": {},
   "source": [
    "## 3. Simulate Precipitation <a class=\"anchor\" id=\"3\"></a>"
   ]
  },
  {
   "cell_type": "markdown",
   "metadata": {},
   "source": [
    "### 3.1. Use simulated GEVs to generate Precipitation Annual Maxima <a class=\"anchor\" id=\"31\"></a>"
   ]
  },
  {
   "cell_type": "code",
   "execution_count": null,
   "metadata": {},
   "outputs": [],
   "source": [
    "years_sim = 100  # years of precipitation to simulate\n",
    "\n",
    "# use simulated GEVs\n",
    "var_sim = np.zeros((theta_sim.shape[0], years_sim))*np.nan  # initialize output numpy array\n",
    "for c, ts in enumerate(theta_sim):\n",
    "    var_sim[c,:] = genextreme.rvs(*ts, size=years_sim)\n",
    "\n",
    "# generate a time array for simulated data\n",
    "time_sim = np.arange('1970-10-01', '{0}-10-01'.format(1970+years_sim), dtype='datetime64[Y]')\n"
   ]
  },
  {
   "cell_type": "code",
   "execution_count": null,
   "metadata": {},
   "outputs": [],
   "source": [
    "years_sim = 100  # years of precipitation to simulate\n",
    "\n",
    "# use simulated GEVs\n",
    "var_sim = np.zeros((theta_sim.shape[0], years_sim))*np.nan  # initialize output numpy array\n",
    "for c, ts in enumerate(theta_sim):\n",
    "    var_sim[c,:] = genextreme.rvs(*ts, size=years_sim)\n",
    "\n",
    "# generate a time array for simulated data\n",
    "time_sim = np.arange('1970-10-01', '{0}-10-01'.format(1970+years_sim), dtype='datetime64[Y]')\n"
   ]
  },
  {
   "cell_type": "markdown",
   "metadata": {},
   "source": [
    "### 3.2. Plot Return Period <a class=\"anchor\" id=\"32\"></a>"
   ]
  },
  {
   "cell_type": "code",
   "execution_count": null,
   "metadata": {},
   "outputs": [],
   "source": [
    "# aux func for calculating rp time\n",
    "def t_rp(time_y):\n",
    "    ny = len(time_y)\n",
    "    return np.array([1/(1-(n/(ny+1))) for n in np.arange(1,ny+1)])\n",
    "\n",
    "# historical rp time and sorted annual maxima\n",
    "trp_hist = t_rp(amax['Fmax'])\n",
    "trp_hist_val = np.sort(amax['Pmax'])\n",
    "\n",
    "# simulation rp time and sorted annual maxima\n",
    "trp_sim = t_rp(time_sim)\n",
    "trp_sim_val = np.sort(var_sim)\n",
    "\n",
    "# calculate simulation maxima percentiles\n",
    "p95 = np.percentile(trp_sim_val, 100-5/2.0, axis=0,)\n",
    "p50 = np.percentile(trp_sim_val, 50, axis=0,)\n",
    "p05 = np.percentile(trp_sim_val, 5/2.0, axis=0,)\n"
   ]
  },
  {
   "cell_type": "code",
   "execution_count": null,
   "metadata": {},
   "outputs": [],
   "source": [
    "# Plot return period\n",
    "\n",
    "fig = go.Figure()\n",
    "fig.add_trace(go.Scatter(x=trp_sim, y=p95, mode='lines', name='P95', marker_color='mediumturquoise'))\n",
    "fig.add_trace(go.Scatter(x=trp_sim, y=p05, mode='lines', name='P05', marker_color='mediumturquoise',  fill='tonexty', fillcolor='rgba(0, 181, 204, 0.10)'))\n",
    "fig.add_trace(go.Scatter(x=trp_sim, y=p50, mode='lines', name='P50', marker_color='black'))\n",
    "fig.add_trace(go.Scatter(x=trp_hist, y=trp_hist_val, mode='markers', name='Hist', marker_color='red'))\n",
    "\n",
    "\n",
    "fig.update_xaxes(type=\"log\")\n",
    "fig.update_layout(    \n",
    "    xaxis_title = \"Return Period (years)\",\n",
    "    yaxis_title = \"Precipitation (mm/d)\",\n",
    "    title = 'Annual Maxima',\n",
    "    width=400*2.5, height=300*2.5\n",
    ")\n",
    "fig.show()\n"
   ]
  },
  {
   "cell_type": "code",
   "execution_count": null,
   "metadata": {},
   "outputs": [],
   "source": []
  }
 ],
 "metadata": {
  "kernelspec": {
   "display_name": "Python 3 (ipykernel)",
   "language": "python",
   "name": "python3"
  },
  "language_info": {
   "codemirror_mode": {
    "name": "ipython",
    "version": 3
   },
   "file_extension": ".py",
   "mimetype": "text/x-python",
   "name": "python",
   "nbconvert_exporter": "python",
   "pygments_lexer": "ipython3",
   "version": "3.9.13"
  }
 },
 "nbformat": 4,
 "nbformat_minor": 4
}
