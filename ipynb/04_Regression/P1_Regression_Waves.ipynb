{
 "cells": [
  {
   "cell_type": "markdown",
   "id": "6bc5dd64-5beb-4176-abf3-e1c3b28abb1e",
   "metadata": {},
   "source": [
    "# Wave Regression"
   ]
  },
  {
   "cell_type": "code",
   "execution_count": null,
   "id": "efa4ab67-7c3a-476c-afff-85eef5beaef5",
   "metadata": {},
   "outputs": [],
   "source": [
    "import warnings\n",
    "warnings.simplefilter(\"ignore\")"
   ]
  },
  {
   "cell_type": "code",
   "execution_count": null,
   "id": "5c8d3db9-1504-4147-aa82-2f60104eae48",
   "metadata": {},
   "outputs": [],
   "source": [
    "import os\n",
    "import os.path as op\n",
    "\n",
    "import numpy as np\n",
    "import pandas as pd\n",
    "\n",
    "import datetime\n",
    "\n",
    "import matplotlib.pyplot as plt\n",
    "import pickle as pkl\n",
    "from scipy.io import loadmat\n",
    "\n",
    "from scipy import stats\n",
    "from scipy.optimize import least_squares # used\n",
    "\n",
    "import plotly.express as px\n",
    "import plotly.graph_objects as go\n",
    "from plotly.subplots import make_subplots"
   ]
  },
  {
   "cell_type": "code",
   "execution_count": null,
   "id": "6eef3261-b15c-4be1-8a07-f69fd5533b67",
   "metadata": {},
   "outputs": [],
   "source": [
    "p_db = op.join(os.getcwd(),'..','..','data','Waves')\n",
    "\n",
    "# database waves (mat file)\n",
    "p_dat = op.join(p_db, 'cantabria_CSIRO.mat')\n",
    "\n",
    "# database exploration\n",
    "data_mat = loadmat(p_dat)\n",
    "\n",
    "array = data_mat[list(data_mat.keys())[-1]]"
   ]
  },
  {
   "cell_type": "code",
   "execution_count": null,
   "id": "312e62c9-91ab-4597-b5af-2f988e825a18",
   "metadata": {},
   "outputs": [],
   "source": [
    "data = pd.DataFrame(\n",
    "    {\n",
    "        'hs': data_mat['data'][0][0][5].squeeze(),\n",
    "        'tp': data_mat['data'][0][0][7].squeeze(),\n",
    "        'dir': data_mat['data'][0][0][6].squeeze(),\n",
    "        'year': data_mat['data'][0][0][10].squeeze(),\n",
    "        'month': data_mat['data'][0][0][11].squeeze(),\n",
    "        'day': data_mat['data'][0][0][12].squeeze(),\n",
    "        'hour': data_mat['data'][0][0][13].squeeze(),\n",
    "\n",
    "    }\n",
    ")\n",
    "\n",
    "data['dates'] = pd.to_datetime(data[['year', 'month', 'day', 'hour']])\n",
    "data = data.drop(['year', 'month', 'day', 'hour'], axis=1).set_index('dates')\n",
    "data"
   ]
  },
  {
   "cell_type": "code",
   "execution_count": null,
   "id": "fac57fa0-725e-4320-9b6e-74f46c808e12",
   "metadata": {},
   "outputs": [],
   "source": [
    "# Use pandas library for plotting boxplot\n",
    "data.boxplot(\n",
    "    by=data.index.month,\n",
    "    column = 'hs',\n",
    "    figsize=(19,10), \n",
    "    patch_artist=True,\n",
    "    boxprops=dict(color='skyblue', facecolor='skyblue'),\n",
    "    capprops=dict(color='k'),\n",
    "    whiskerprops=dict(color='k', linewidth=1),\n",
    "    medianprops=dict(color='w',linewidth=2),\n",
    "    flierprops=dict(markerfacecolor='royalblue', markersize=6,\n",
    "                    markeredgecolor='royalblue')\n",
    ");\n",
    "plt.show()"
   ]
  },
  {
   "cell_type": "markdown",
   "id": "efded803-7f52-43fa-b600-02b703d9440d",
   "metadata": {},
   "source": [
    "## Compute Monthly Means"
   ]
  },
  {
   "cell_type": "code",
   "execution_count": null,
   "id": "a6a754be-c205-4276-8103-f23bc23256d1",
   "metadata": {},
   "outputs": [],
   "source": [
    "#data = data.groupby(pd.Grouper(freq='1D')).mean()\n",
    "data = data.groupby(pd.Grouper(freq='1M')).mean()\n",
    "data = data.dropna()"
   ]
  },
  {
   "cell_type": "markdown",
   "id": "6cb35c13-6fe9-49fb-9b58-e5b1e6b33290",
   "metadata": {},
   "source": [
    "### Create time vector"
   ]
  },
  {
   "cell_type": "code",
   "execution_count": null,
   "id": "df9d6320-1102-48ea-8a18-b8e0fef68bb6",
   "metadata": {},
   "outputs": [],
   "source": [
    "#Create a time vector\n",
    "data['time_vect'] = [day.dayofyear/365.25 + data.index.year[d]-data.index.year.min() \\\n",
    "                       for d, day in enumerate(data.index)]"
   ]
  },
  {
   "cell_type": "code",
   "execution_count": null,
   "id": "73621fb4-c474-4d6e-8a87-7d29c769946c",
   "metadata": {},
   "outputs": [],
   "source": [
    "def fun_monthly(x, time, hs):    \n",
    "    return x[0] + x[1]*np.cos(2*np.pi*time) + x[2]*np.sin(2*np.pi*time) - hs\n",
    "\n",
    "x0 = [1,1,1]"
   ]
  },
  {
   "cell_type": "code",
   "execution_count": null,
   "id": "33b754a1-8e63-417f-82b8-e9c7249753a7",
   "metadata": {},
   "outputs": [],
   "source": [
    "def fun_monthly_inv(time, a0, a1, a2):    \n",
    "    return a0 + a1*np.cos(2*np.pi*time) + a2*np.sin(2*np.pi*time)"
   ]
  },
  {
   "cell_type": "code",
   "execution_count": null,
   "id": "ce6f9921-bd62-45ce-af95-6fe7b28a304e",
   "metadata": {},
   "outputs": [],
   "source": [
    "def fun_monthly(x, time, hs):    \n",
    "    return x[0] + x[1]*np.cos(2*np.pi*time) + x[2]*np.sin(2*np.pi*time) + x[3]*np.cos(4*np.pi*time) + x[4]*np.sin(4*np.pi*time) + x[5]*time - hs\n",
    "\n",
    "x0 = [1,1,1,1,1,1]"
   ]
  },
  {
   "cell_type": "code",
   "execution_count": null,
   "id": "21e717eb-f9e0-4c35-b5be-dd2c7faafbc2",
   "metadata": {},
   "outputs": [],
   "source": [
    "def fun_monthly_inv(time, a0, a1, a2, a3, a4, b0):    \n",
    "\n",
    "    return a0 + a1*np.cos(2*np.pi*time) + a2*np.sin(2*np.pi*time) + a3*np.cos(4*np.pi*time) + a4*np.sin(4*np.pi*time) + b0*time\n"
   ]
  },
  {
   "cell_type": "code",
   "execution_count": null,
   "id": "3af446f8-4045-4c37-800d-86ca88629c3f",
   "metadata": {},
   "outputs": [],
   "source": [
    "time = data.time_vect.values\n",
    "hs = data.hs.values"
   ]
  },
  {
   "cell_type": "code",
   "execution_count": null,
   "id": "718a7a38-7246-41dc-9e0c-645e17f36b22",
   "metadata": {},
   "outputs": [],
   "source": [
    "model_month = least_squares(fun_monthly, x0, args=(time, hs))"
   ]
  },
  {
   "cell_type": "code",
   "execution_count": null,
   "id": "34e19cff-7ead-464c-8967-0672d7209ad7",
   "metadata": {},
   "outputs": [],
   "source": [
    "# parameters variance\n",
    "std = np.sqrt(np.diagonal(np.linalg.inv(model_month.jac.T.dot(model_month.jac))))\n",
    "covar = np.linalg.inv(model_month.jac.T.dot(model_month.jac))\n",
    "\n",
    "print('\\nOptimal coefficients: ')\n",
    "print(model_month.x)\n",
    "print('\\nStandar deviation (s.e): ')\n",
    "print(std)\n",
    "print('\\nCovariance matrix: ')\n",
    "print(covar)"
   ]
  },
  {
   "cell_type": "code",
   "execution_count": null,
   "id": "f1aa4821-d81c-47cb-9c4a-49f34e0a3128",
   "metadata": {},
   "outputs": [],
   "source": [
    "hs_mod = fun_monthly_inv(time, *model_month.x)"
   ]
  },
  {
   "cell_type": "code",
   "execution_count": null,
   "id": "a4ad881a-60c2-4e07-a892-9a8bdb71c33d",
   "metadata": {},
   "outputs": [],
   "source": [
    "plt.figure(figsize = [15, 6])\n",
    "plt.plot(time, hs, 'k')\n",
    "plt.plot(time, hs_mod, color = 'crimson')\n",
    "\n",
    "plt.xlabel('Time')\n",
    "plt.ylabel('Hs', fontsize = 16)\n",
    "\n",
    "plt.xlim([0, 30])"
   ]
  },
  {
   "cell_type": "code",
   "execution_count": null,
   "id": "d8bf38c9-8831-4d3e-9bdd-55eead7faf9b",
   "metadata": {},
   "outputs": [],
   "source": [
    "# values standard deviation\n",
    "size_sim = 1000\n",
    "data_mc = np.zeros((size_sim, len(data.index)))\n",
    "\n",
    "for i in range(size_sim):\n",
    "    data_mc[i,:] = fun_monthly_inv(data.time_vect, *np.random.multivariate_normal(model_month.x, covar))\n",
    "    \n",
    "data_mean = np.std(data_mc, axis=0) # should be predictions\n",
    "data_95 = np.percentile(data_mc, 100-5/2, axis=0) # mean +2 std\n",
    "data_05 = np.percentile(data_mc, 5/2, axis=0) # mean -2 std\n",
    "data_std = np.mean(np.std(data_mc, axis=0))\n",
    "data_std"
   ]
  },
  {
   "cell_type": "code",
   "execution_count": null,
   "id": "033d4bc2-99c1-4724-bdd2-8edd0ad54f54",
   "metadata": {},
   "outputs": [],
   "source": [
    "fig = make_subplots(rows=3, cols=1, \n",
    "                        shared_xaxes=True,\n",
    "                        specs=[[{'type': 'scatter',\n",
    "                                 'rowspan': 2}],\n",
    "                               [None],\n",
    "                               [{'type': 'scatter'}]])\n",
    "fig.add_trace(go.Scatter(x=data.index, y=data.hs, mode='markers', \n",
    "                             name='Montlhy Mean Temperature (ºC)', marker_color='#636EFA'),\n",
    "                  row=1, col=1)\n",
    "fig.add_trace(go.Scatter(x=data.index, y=hs_mod, mode='lines', \n",
    "                             name='LS Reg. model', marker_color='black'),\n",
    "                  row=1, col=1)\n",
    "fig.add_trace(go.Scatter(x=data.index, y=hs_mod+(2*data_std), mode='lines', \n",
    "                             name='95% c.i',marker_color='mediumturquoise'),\n",
    "                  row=1, col=1)\n",
    "fig.add_trace(go.Scatter(x=data.index, y=hs_mod-(2*data_std), mode='lines', \n",
    "                             name='5% c.i',marker_color='mediumturquoise',\n",
    "                             fill='tonexty', fillcolor='rgba(0, 181, 204, 0.10)'),\n",
    "                  row=1, col=1)\n",
    "\n",
    "fig.update_layout(\n",
    "        title = 'Real measurements and Least Squares Regression Model comparisons',\n",
    "        width=1000, height=500,\n",
    "        xaxis={'type': 'date', 'range': [data.index[0], data.index[-1]],\n",
    "            'autorange': True}\n",
    ")\n",
    "fig.show()"
   ]
  },
  {
   "cell_type": "code",
   "execution_count": null,
   "id": "6a86f3fa-c45b-4a51-b8a8-602adea9ad23",
   "metadata": {},
   "outputs": [],
   "source": []
  }
 ],
 "metadata": {
  "kernelspec": {
   "display_name": "Python 3 (ipykernel)",
   "language": "python",
   "name": "python3"
  },
  "language_info": {
   "codemirror_mode": {
    "name": "ipython",
    "version": 3
   },
   "file_extension": ".py",
   "mimetype": "text/x-python",
   "name": "python",
   "nbconvert_exporter": "python",
   "pygments_lexer": "ipython3",
   "version": "3.9.13"
  }
 },
 "nbformat": 4,
 "nbformat_minor": 5
}
