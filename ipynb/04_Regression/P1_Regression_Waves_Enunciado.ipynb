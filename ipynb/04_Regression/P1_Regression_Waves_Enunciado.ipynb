{
 "cells": [
  {
   "cell_type": "markdown",
   "id": "6bc5dd64-5beb-4176-abf3-e1c3b28abb1e",
   "metadata": {},
   "source": [
    "# Wave Regression"
   ]
  },
  {
   "cell_type": "code",
   "execution_count": 2,
   "id": "efa4ab67-7c3a-476c-afff-85eef5beaef5",
   "metadata": {},
   "outputs": [],
   "source": [
    "import warnings\n",
    "warnings.simplefilter(\"ignore\")"
   ]
  },
  {
   "cell_type": "code",
   "execution_count": 3,
   "id": "5c8d3db9-1504-4147-aa82-2f60104eae48",
   "metadata": {},
   "outputs": [],
   "source": [
    "import os\n",
    "import os.path as op\n",
    "\n",
    "import pandas as pd\n",
    "\n",
    "from scipy.io import loadmat"
   ]
  },
  {
   "cell_type": "code",
   "execution_count": 4,
   "id": "6eef3261-b15c-4be1-8a07-f69fd5533b67",
   "metadata": {},
   "outputs": [],
   "source": [
    "p_db = op.join(os.getcwd(),'..','..','data','Waves')\n",
    "\n",
    "# database waves (mat file)\n",
    "p_dat = op.join(p_db, 'cantabria_CSIRO.mat')\n",
    "\n",
    "# database exploration\n",
    "data_mat = loadmat(p_dat)\n",
    "\n",
    "array = data_mat[list(data_mat.keys())[-1]]"
   ]
  },
  {
   "cell_type": "code",
   "execution_count": 5,
   "id": "312e62c9-91ab-4597-b5af-2f988e825a18",
   "metadata": {},
   "outputs": [],
   "source": [
    "data = pd.DataFrame(\n",
    "    {\n",
    "        'hs': data_mat['data'][0][0][5].squeeze(),\n",
    "        'tp': data_mat['data'][0][0][7].squeeze(),\n",
    "        'dir': data_mat['data'][0][0][6].squeeze(),\n",
    "        'year': data_mat['data'][0][0][10].squeeze(),\n",
    "        'month': data_mat['data'][0][0][11].squeeze(),\n",
    "        'day': data_mat['data'][0][0][12].squeeze(),\n",
    "        'hour': data_mat['data'][0][0][13].squeeze(),\n",
    "\n",
    "    }\n",
    ")\n",
    "\n",
    "data['dates'] = pd.to_datetime(data[['year', 'month', 'day', 'hour']])\n",
    "data = data.drop(['year', 'month', 'day', 'hour'], axis=1).set_index('dates')\n"
   ]
  },
  {
   "cell_type": "markdown",
   "id": "0b77e20d-d8e9-41e0-bc11-a940f718f692",
   "metadata": {},
   "source": [
    "### Plot Monthly BoxPlot"
   ]
  },
  {
   "cell_type": "code",
   "execution_count": null,
   "id": "bb18e7b1-e1aa-4f00-9139-f9747d7087e0",
   "metadata": {},
   "outputs": [],
   "source": []
  },
  {
   "cell_type": "markdown",
   "id": "efded803-7f52-43fa-b600-02b703d9440d",
   "metadata": {},
   "source": [
    "### Compute Monthly Means"
   ]
  },
  {
   "cell_type": "code",
   "execution_count": null,
   "id": "c2d2948d-b4e1-4a01-9595-86a152fca7da",
   "metadata": {},
   "outputs": [],
   "source": []
  },
  {
   "cell_type": "markdown",
   "id": "6cb35c13-6fe9-49fb-9b58-e5b1e6b33290",
   "metadata": {},
   "source": [
    "### Create time vector"
   ]
  },
  {
   "cell_type": "raw",
   "id": "8aeeb430-5fc8-4fe5-a603-2bee28a1d5ea",
   "metadata": {},
   "source": [
    "#Create a time vector\n",
    "data['time_vect'] = [day.dayofyear/365.25 + data.index.year[d]-data.index.year.min() \\\n",
    "                       for d, day in enumerate(data.index)]"
   ]
  },
  {
   "cell_type": "code",
   "execution_count": null,
   "id": "5987f7f7-f7e3-4eea-9f97-0ca9207e4b10",
   "metadata": {},
   "outputs": [],
   "source": []
  },
  {
   "cell_type": "markdown",
   "id": "18d1c834-647e-4adb-bed2-1e3e1da41720",
   "metadata": {},
   "source": [
    "### Define function"
   ]
  },
  {
   "cell_type": "markdown",
   "id": "00235d1f-940c-44a3-8429-206466d30fd4",
   "metadata": {},
   "source": [
    "Regression models to fit: \n",
    "\n",
    "$$\\textbf{Model 3: } y = a_0 + a_1*cos(2\\pi t) + a_2*sin(2\\pi t) + a_3*cos(4\\pi t) + a_4*sin(4\\pi t) + b_0*t$$"
   ]
  },
  {
   "cell_type": "markdown",
   "id": "7e10f1c4-3b73-4bc1-ae7a-933a57557623",
   "metadata": {},
   "source": [
    "Fit model, calculate std and covar parameters and calculate the historical period from the model."
   ]
  },
  {
   "cell_type": "code",
   "execution_count": null,
   "id": "fe73524a-b7c5-4dbe-be62-b15c9f4450ee",
   "metadata": {},
   "outputs": [],
   "source": []
  },
  {
   "cell_type": "markdown",
   "id": "e864b040-c147-4f5e-b3f3-561dfc8b138b",
   "metadata": {},
   "source": [
    "### Plot comparison of historical values vs modelled for best parameters"
   ]
  },
  {
   "cell_type": "code",
   "execution_count": null,
   "id": "7371f3e3-e69b-4e59-8827-91df2c91d0a0",
   "metadata": {},
   "outputs": [],
   "source": []
  },
  {
   "cell_type": "markdown",
   "id": "02e3ad37-ad31-4bc1-8a70-272a8a669dee",
   "metadata": {},
   "source": [
    "### Calculate 1000 montecarlo simulations by randomly sampling the parameters with the covariate matrix"
   ]
  },
  {
   "cell_type": "markdown",
   "id": "575f3839-786b-4ada-8176-c9ab21616b53",
   "metadata": {},
   "source": []
  },
  {
   "cell_type": "markdown",
   "id": "4c966e01-5506-41bd-bfcb-33a847cd149b",
   "metadata": {},
   "source": [
    "### Using the simulations, calculate the mean, the CI of the 95% and the standard deviation"
   ]
  },
  {
   "cell_type": "code",
   "execution_count": null,
   "id": "94f18b6e-fae9-4652-81cb-73bf1bfe265e",
   "metadata": {},
   "outputs": [],
   "source": []
  },
  {
   "cell_type": "markdown",
   "id": "1719b117-823d-405c-8a70-c5cdd9719d51",
   "metadata": {},
   "source": [
    "### Plot Data, Model and 95% confidence intervals"
   ]
  },
  {
   "cell_type": "code",
   "execution_count": null,
   "id": "6a86f3fa-c45b-4a51-b8a8-602adea9ad23",
   "metadata": {},
   "outputs": [],
   "source": []
  }
 ],
 "metadata": {
  "kernelspec": {
   "display_name": "Python 3 (ipykernel)",
   "language": "python",
   "name": "python3"
  },
  "language_info": {
   "codemirror_mode": {
    "name": "ipython",
    "version": 3
   },
   "file_extension": ".py",
   "mimetype": "text/x-python",
   "name": "python",
   "nbconvert_exporter": "python",
   "pygments_lexer": "ipython3",
   "version": "3.9.13"
  }
 },
 "nbformat": 4,
 "nbformat_minor": 5
}
