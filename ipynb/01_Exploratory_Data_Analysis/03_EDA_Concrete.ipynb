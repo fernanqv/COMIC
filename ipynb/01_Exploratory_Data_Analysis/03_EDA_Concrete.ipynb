{
 "cells": [
  {
   "cell_type": "markdown",
   "metadata": {},
   "source": [
    "# Concrete database\n"
   ]
  },
  {
   "cell_type": "markdown",
   "metadata": {},
   "source": [
    "<p style=\"font-family: arial, Times New Roman; font-size:12pt; color:black;text-align:justify\">\n",
    "    Concrete databases downloaded from Kaggle: <a href=\"https://www.kaggle.com/elikplim/concrete-compressive-strength-data-set\">Concrete Compressive Strength Data Set</a>\n",
    "    <br>Explanatory variables (x_i), output variable (y), “y” is the concrete resistance\n",
    " </p>"
   ]
  },
  {
   "cell_type": "code",
   "execution_count": null,
   "metadata": {},
   "outputs": [],
   "source": [
    "# system\n",
    "import os\n",
    "import os.path as op\n",
    "import sys\n",
    "\n",
    "import numpy as np\n",
    "import pandas as pd\n",
    "import datetime\n",
    "\n",
    "# matplotlib\n",
    "import matplotlib.pyplot as plt\n",
    "import matplotlib.gridspec as gridspec\n",
    "\n",
    "# plotly\n",
    "import plotly.express as px\n",
    "import plotly.graph_objects as go\n"
   ]
  },
  {
   "cell_type": "markdown",
   "metadata": {},
   "source": [
    "## 1. Load data"
   ]
  },
  {
   "cell_type": "code",
   "execution_count": null,
   "metadata": {},
   "outputs": [],
   "source": [
    "# --------------------------------------\n",
    "# input\n",
    "\n",
    "p_db = op.join(os.getcwd(),'..','..','data','Concrete')\n",
    "\n",
    "# database concrete (csv file)\n",
    "p_csv = op.join(p_db, 'compresive_strength_concrete.csv')\n",
    "\n",
    "# database exploration\n",
    "data = pd.read_csv(p_csv)\n",
    "\n",
    "data"
   ]
  },
  {
   "cell_type": "code",
   "execution_count": null,
   "metadata": {},
   "outputs": [],
   "source": [
    "px.scatter(\n",
    "    data, \n",
    "    x=data.columns[:-1], \n",
    "    y=data.columns[-1], \n",
    "    trendline='ols',\n",
    ")"
   ]
  },
  {
   "cell_type": "code",
   "execution_count": null,
   "metadata": {},
   "outputs": [],
   "source": [
    "# scatterplot every variable (using matplotlib.gridspec)\n",
    "fig = plt.figure(figsize=(48,48))\n",
    "gs = gridspec.GridSpec(9, 9, figure=fig)\n",
    "\n",
    "vnames = data.keys()\n",
    "for c1, v1 in enumerate(vnames[:-1]):\n",
    "    for c2, v2 in enumerate(vnames[:-1]):\n",
    "        if c1>c2:\n",
    "            ax = plt.subplot(gs[c2, c1])\n",
    "            im = data.plot.scatter(x=v1, y=v2, \n",
    "                              ax=ax, \n",
    "                              c=data[vnames[-1]], cmap='hot_r')\n",
    "plt.show()"
   ]
  },
  {
   "cell_type": "code",
   "execution_count": null,
   "metadata": {},
   "outputs": [],
   "source": [
    "data.corr()"
   ]
  },
  {
   "cell_type": "code",
   "execution_count": null,
   "metadata": {},
   "outputs": [],
   "source": []
  }
 ],
 "metadata": {
  "kernelspec": {
   "display_name": "Python 3 (ipykernel)",
   "language": "python",
   "name": "python3"
  },
  "language_info": {
   "codemirror_mode": {
    "name": "ipython",
    "version": 3
   },
   "file_extension": ".py",
   "mimetype": "text/x-python",
   "name": "python",
   "nbconvert_exporter": "python",
   "pygments_lexer": "ipython3",
   "version": "3.9.13"
  }
 },
 "nbformat": 4,
 "nbformat_minor": 4
}
