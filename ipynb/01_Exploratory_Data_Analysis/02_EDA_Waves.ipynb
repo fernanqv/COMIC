{
 "cells": [
  {
   "cell_type": "markdown",
   "metadata": {},
   "source": [
    "# Waves"
   ]
  },
  {
   "cell_type": "markdown",
   "metadata": {},
   "source": [
    "<p style=\"font-family: arial, Times New Roman; font-size:12pt; color:black;text-align:justify\">\n",
    "Info.  Buoy series in .mat file with variables of (year, month, day, hour, hs, tm, tp, dir, dirp, sprp, spr) in columns<br>\n",
    "    To ease the analysis, it is recommended to use the scipy library to read data and DataFrame format for graphs (pandas, matplotlib, plotly, plotly express) This notebook uses plotly express library, for more information, please refer to the plotly express documentation \n",
    "    <a href=\"https://plotly.com/python/plotly-express/\">https://plotly.com/python/plotly-express/</a>\n",
    "</p>"
   ]
  },
  {
   "cell_type": "code",
   "execution_count": null,
   "metadata": {},
   "outputs": [],
   "source": [
    "import warnings\n",
    "warnings.simplefilter('ignore')"
   ]
  },
  {
   "cell_type": "code",
   "execution_count": null,
   "metadata": {},
   "outputs": [],
   "source": [
    "# system\n",
    "import os\n",
    "import os.path as op\n",
    "import sys\n",
    "\n",
    "# arrays\n",
    "import numpy as np\n",
    "import pandas as pd\n",
    "from scipy.io import loadmat\n",
    "import datetime\n",
    "\n",
    "# matplotlib\n",
    "import matplotlib.pyplot as plt\n",
    "import matplotlib.gridspec as gridspec\n",
    "\n",
    "# plotly \n",
    "import plotly.express as px\n",
    "import plotly.graph_objects as go\n",
    "from plotly.subplots import make_subplots"
   ]
  },
  {
   "cell_type": "markdown",
   "metadata": {},
   "source": [
    "## 3.1 Load data"
   ]
  },
  {
   "cell_type": "code",
   "execution_count": null,
   "metadata": {},
   "outputs": [],
   "source": [
    "p_db = op.join(os.getcwd(),'..','..','data','Buoys')\n",
    "\n",
    "# database waves (mat file)\n",
    "p_dat = op.join(p_db, 'Bilbao-Vizcaya Ext.mat')\n",
    "\n",
    "# database exploration\n",
    "data_mat = loadmat(p_dat)\n",
    "\n",
    "array = data_mat[list(data_mat.keys())[-1]]"
   ]
  },
  {
   "cell_type": "code",
   "execution_count": null,
   "metadata": {},
   "outputs": [],
   "source": [
    "data = pd.DataFrame(\n",
    "    {\n",
    "        'year': array[:,0],\n",
    "        'month': array[:,1],\n",
    "        'day': array[:,2],\n",
    "        'hour': array[:,3],\n",
    "        'hs': array[:,4],\n",
    "        'tm': array[:,5],\n",
    "        'tp': array[:,6],\n",
    "        'dir': array[:,9],\n",
    "        'dirp': array[:,10],\n",
    "        'sprp': array[:,11],\n",
    "        'spr': array[:,12],\n",
    "    }\n",
    ")\n",
    "data"
   ]
  },
  {
   "cell_type": "code",
   "execution_count": null,
   "metadata": {},
   "outputs": [],
   "source": [
    "data['dates'] = pd.to_datetime(data[['year', 'month', 'day', 'hour']])\n",
    "data = data.drop(['year', 'month', 'day', 'hour'], axis=1).set_index('dates')\n",
    "data"
   ]
  },
  {
   "cell_type": "code",
   "execution_count": null,
   "metadata": {},
   "outputs": [],
   "source": [
    "\n",
    "data.boxplot(by = data.index.month, column = 'hs', figsize = (15,12))"
   ]
  },
  {
   "cell_type": "markdown",
   "metadata": {},
   "source": [
    "## 3.2 Plot series"
   ]
  },
  {
   "cell_type": "code",
   "execution_count": null,
   "metadata": {},
   "outputs": [],
   "source": [
    "# Use pandas library for plotting daily series\n",
    "data.plot(\n",
    "    subplots=True,\n",
    "    figsize=(17,14), layout=(7,1),\n",
    "    color=['royalblue','gold','orangered','skyblue','seagreen','thistle']\n",
    ")\n",
    "plt.show()"
   ]
  },
  {
   "cell_type": "markdown",
   "metadata": {},
   "source": [
    "## 3.3. Scatter matrix of Energy flux"
   ]
  },
  {
   "cell_type": "markdown",
   "metadata": {},
   "source": [
    "<p style=\"font-family: arial, Times New Roman; font-size:12pt; color:black;text-align:justify\">\n",
    "    Energy flux measured by F = Hs^2 * Tp. Scatter plot with energy flux color<br>\n",
    "    <a href=\"https://plotly.com/python/splom/\">Plotly express library</a>\n",
    "\n",
    "</p>"
   ]
  },
  {
   "cell_type": "code",
   "execution_count": null,
   "metadata": {},
   "outputs": [],
   "source": [
    "# create dataframe column with energy flux EF values\n",
    "data['EF'] = data['hs']**2 * data['tp']\n",
    "data"
   ]
  },
  {
   "cell_type": "code",
   "execution_count": null,
   "metadata": {},
   "outputs": [],
   "source": [
    "import plotly.express as px\n",
    "\n",
    "fig = px.scatter_3d(data.dropna(), x='hs', y='tp', z='dir', size='hs', size_max=10, color='EF')\n",
    "fig.update_traces(marker=dict(size=3,\n",
    "                              line=dict(width=0)),\n",
    "                  selector=dict(mode='markers'))\n",
    "\n",
    "fig.show()"
   ]
  },
  {
   "cell_type": "code",
   "execution_count": null,
   "metadata": {},
   "outputs": [],
   "source": [
    "fig = go.Figure(data=go.Splom(\n",
    "                dimensions=[dict(label='Hs (m)',\n",
    "                                 values=data['hs']),\n",
    "                            dict(label='Tm (s)',\n",
    "                                 values=data['tm']),\n",
    "                            dict(label='Tp (s)',\n",
    "                                 values=data['tp']),\n",
    "                            dict(label='Dir (º)',\n",
    "                                 values=data['dir']),\n",
    "                            dict(label='DirP (º)',\n",
    "                                 values=data['dirp']),\n",
    "                            dict(label='Spr (º)',\n",
    "                                 values=data['spr']),\n",
    "                            dict(label='SprP (º)',\n",
    "                                 values=data['sprp'])],\n",
    "                showlowerhalf=False, # remove plots on diagonal\n",
    "                diagonal=dict(visible=False),\n",
    "                text=data['EF'],\n",
    "                marker=dict(color=data['EF'],\n",
    "                            colorscale='magma_r',\n",
    "                            showscale=True, # colorbar\n",
    "                            size=2)\n",
    "                ))\n",
    "\n",
    "\n",
    "fig.update_layout(\n",
    "    title='Scatter matrix of Buoy variables',\n",
    "    width=1100,\n",
    "    height=1100,\n",
    ")\n",
    "\n",
    "fig.show()"
   ]
  },
  {
   "cell_type": "markdown",
   "metadata": {},
   "source": [
    "## 3.4 Density contour Hs-Tp"
   ]
  },
  {
   "cell_type": "code",
   "execution_count": null,
   "metadata": {},
   "outputs": [],
   "source": [
    "fig = px.density_contour(data, x=\"hs\", y=\"tp\", marginal_x=\"histogram\", marginal_y=\"box\")\n",
    "fig.update_layout(\n",
    "    width=700,\n",
    "    height=700,\n",
    ")\n",
    "fig.show()"
   ]
  },
  {
   "cell_type": "markdown",
   "metadata": {},
   "source": [
    "## 3.5 Density heatmap Hs-Tp"
   ]
  },
  {
   "cell_type": "code",
   "execution_count": null,
   "metadata": {},
   "outputs": [],
   "source": [
    "fig = px.density_heatmap(data, x=\"hs\", y=\"dir\", marginal_x=\"histogram\", marginal_y=\"histogram\")\n",
    "fig.update_layout(\n",
    "    width=700,\n",
    "    height=700,\n",
    ")\n",
    "fig.show()"
   ]
  },
  {
   "cell_type": "markdown",
   "metadata": {},
   "source": [
    "## 3.6 Gumbel fit to Hs and Tp variables"
   ]
  },
  {
   "cell_type": "code",
   "execution_count": null,
   "metadata": {},
   "outputs": [],
   "source": [
    "import scipy.stats as ss\n",
    "\n",
    "nbins = 30\n",
    "t = np.linspace(-1,data.hs.max(),100)\n",
    "t1 = np.linspace(0,data.tp.max()+5,100)\n",
    "\n",
    "fig, axs = plt.subplots(1,3, figsize=(13,5))\n",
    "\n",
    "# Hs fit\n",
    "fit = ss.gumbel_r.fit(data.hs)\n",
    "pdf_gumbel = ss.gumbel_r.pdf(t, *fit)\n",
    "\n",
    "data.hs.hist(\n",
    "    ax=axs[0],rwidth=0.9,\n",
    "    bins=nbins, density=1, \n",
    "    color='b', alpha=0.5,\n",
    "    label='Hs (m)'\n",
    ")\n",
    "\n",
    "# Tp fit\n",
    "fit1 = ss.gumbel_r.fit(data.tp)\n",
    "pdf_gumbel1 = ss.gumbel_r.pdf(t1, *fit1)\n",
    "\n",
    "data.tp.hist(\n",
    "    ax=axs[1], rwidth=0.9,\n",
    "    bins=nbins, density=1, \n",
    "    color='b', alpha=0.5,\n",
    "    label='Tp (s)'\n",
    ")\n",
    "axs[0].set_ylabel('Probability density')\n",
    "\n",
    "axs[0].legend()\n",
    "axs[1].legend()\n",
    "\n",
    "# Tp fit\n",
    "fit1 = ss.weibull_min.fit(data.tp)\n",
    "pdf_weibull1 = ss.weibull_min.pdf(t1, *fit1)\n",
    "\n",
    "data.tp.hist(\n",
    "    ax=axs[2], rwidth=0.9,\n",
    "    bins=nbins, density=1, \n",
    "    color='b', alpha=0.5,\n",
    "    label='Tp (s)'\n",
    ")\n",
    "axs[0].plot(t, pdf_gumbel, 'k', label='Gumbel Fit')\n",
    "axs[1].plot(t1, pdf_gumbel1, 'k', label='Gumbel Fit')\n",
    "axs[2].plot(t1, pdf_weibull1, 'k', label='Weibull Fit')\n",
    "\n",
    "axs[0].set_ylabel('Probability density')\n",
    "\n",
    "axs[0].legend()\n",
    "axs[1].legend()\n",
    "axs[2].legend()\n",
    "\n",
    "plt.show()"
   ]
  },
  {
   "cell_type": "code",
   "execution_count": null,
   "metadata": {},
   "outputs": [],
   "source": []
  }
 ],
 "metadata": {
  "kernelspec": {
   "display_name": "Python 3 (ipykernel)",
   "language": "python",
   "name": "python3"
  },
  "language_info": {
   "codemirror_mode": {
    "name": "ipython",
    "version": 3
   },
   "file_extension": ".py",
   "mimetype": "text/x-python",
   "name": "python",
   "nbconvert_exporter": "python",
   "pygments_lexer": "ipython3",
   "version": "3.9.13"
  }
 },
 "nbformat": 4,
 "nbformat_minor": 4
}
